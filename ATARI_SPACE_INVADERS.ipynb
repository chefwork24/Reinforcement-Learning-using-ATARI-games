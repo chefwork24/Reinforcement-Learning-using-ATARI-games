{
 "cells": [
  {
   "cell_type": "code",
   "execution_count": null,
   "id": "1f92bafc",
   "metadata": {},
   "outputs": [],
   "source": [
    "!pip install gym\n"
   ]
  },
  {
   "cell_type": "code",
   "execution_count": null,
   "id": "7e2adbdf",
   "metadata": {},
   "outputs": [],
   "source": [
    "import gym \n",
    "import random"
   ]
  },
  {
   "cell_type": "code",
   "execution_count": null,
   "id": "688705a6",
   "metadata": {},
   "outputs": [],
   "source": [
    "env = gym.make('SpaceInvaders-v4',render_mode=\"human\")\n",
    "height, width, channels = env.observation_space.shape\n",
    "actions = env.action_space.n"
   ]
  },
  {
   "cell_type": "code",
   "execution_count": null,
   "id": "b1b34a1a",
   "metadata": {},
   "outputs": [],
   "source": [
    "env.unwrapped.get_action_meanings()"
   ]
  },
  {
   "cell_type": "code",
   "execution_count": null,
   "id": "ad579214",
   "metadata": {},
   "outputs": [],
   "source": [
    "# episodes = 5\n",
    "# for episode in range(1, episodes+1):\n",
    "#     state = env.reset()\n",
    "#     done = False\n",
    "#     score = 0 \n",
    "    \n",
    "#     while not done:\n",
    "#         env.render()\n",
    "#         action = random.choice([0,1,2,3,4,5])\n",
    "#         n_state, reward, done, *info = env.step(action)\n",
    "#         score+=reward\n",
    "#     print('Episode:{} Score:{}'.format(episode, score))\n",
    "# env.close()"
   ]
  },
  {
   "cell_type": "code",
   "execution_count": null,
   "id": "1846da3c",
   "metadata": {},
   "outputs": [],
   "source": [
    "!pip install tensorflow"
   ]
  },
  {
   "cell_type": "code",
   "execution_count": null,
   "id": "62428fa9",
   "metadata": {},
   "outputs": [],
   "source": [
    "!pip install stable-baselines3[atari]"
   ]
  },
  {
   "cell_type": "code",
   "execution_count": null,
   "id": "8c2ea2e1",
   "metadata": {},
   "outputs": [],
   "source": [
    "!pip install shimmy>=0.2.1"
   ]
  },
  {
   "cell_type": "code",
   "execution_count": null,
   "id": "ce49ac2e",
   "metadata": {},
   "outputs": [],
   "source": [
    "from stable_baselines3 import DQN"
   ]
  },
  {
   "cell_type": "code",
   "execution_count": null,
   "id": "ec9b4c11",
   "metadata": {},
   "outputs": [],
   "source": [
    "model = DQN(\"CnnPolicy\", env, verbose=1, learning_rate=2.5e-4,buffer_size=5)\n",
    "\n",
    "# Train the agent\n",
    "timesteps = 10\n",
    "model.learn(total_timesteps=timesteps)\n",
    "\n",
    "# Save the trained model\n",
    "model.save(\"dqn_SpaceInvaders-v4\")\n",
    "\n",
    "# Load the saved model for later use\n",
    "model = DQN.load(\"dqn_SpaceInvaders-v4\")\n",
    "\n",
    "# Play the game with the trained agent\n",
    "obs, info = env.reset()\n",
    "while True:\n",
    "    action, _states = model.predict(obs)\n",
    "    obs, reward, done, *_ = env.step(action)\n",
    "    env.render()  # Uncomment to render the game window\n",
    "    if done:\n",
    "        break\n",
    "env.close()"
   ]
  },
  {
   "cell_type": "code",
   "execution_count": null,
   "id": "f9d22c4e",
   "metadata": {},
   "outputs": [],
   "source": [
    "model = DQN.load(\"dqn_SpaceInvaders-v4\")\n",
    "\n",
    "# Play the game with the trained agent\n",
    "obs ,info= env.reset()\n",
    "while True:\n",
    "    action, _states = model.predict(obs)\n",
    "    obs, reward, done,* _ = env.step(action)\n",
    "    env.render()  # Uncomment to render the game window\n",
    "    if done:\n",
    "        break\n",
    "env.close()"
   ]
  },
  
 "metadata": {
  "kernelspec": {
   "display_name": "Python 3",
   "language": "python",
   "name": "python3"
  },
  "language_info": {
   "codemirror_mode": {
    "name": "ipython",
    "version": 3
   },
   "file_extension": ".py",
   "mimetype": "text/x-python",
   "name": "python",
   "nbconvert_exporter": "python",
   "pygments_lexer": "ipython3",
   "version": "3.11.8"
  }
 },
 "nbformat": 4,
 "nbformat_minor": 5
}
